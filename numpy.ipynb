{
 "nbformat": 4,
 "nbformat_minor": 2,
 "metadata": {
  "language_info": {
   "name": "python",
   "codemirror_mode": {
    "name": "ipython",
    "version": 3
   },
   "version": "3.7.4"
  },
  "orig_nbformat": 2,
  "file_extension": ".py",
  "mimetype": "text/x-python",
  "name": "python",
  "npconvert_exporter": "python",
  "pygments_lexer": "ipython3",
  "version": 3
 },
 "cells": [
  {
   "cell_type": "code",
   "execution_count": 3,
   "metadata": {},
   "outputs": [
    {
     "name": "stdout",
     "output_type": "stream",
     "text": "[1. 2. 3.]\n"
    },
    {
     "data": {
      "text/plain": "numpy.ndarray"
     },
     "execution_count": 3,
     "metadata": {},
     "output_type": "execute_result"
    }
   ],
   "source": [
    "import numpy as np\n",
    "\n",
    "# Numpy 配列の生成\n",
    "x = np.array([1.0, 2.0, 3.0])\n",
    "print(x)\n",
    "type(x)"
   ]
  },
  {
   "cell_type": "code",
   "execution_count": 7,
   "metadata": {},
   "outputs": [
    {
     "name": "stdout",
     "output_type": "stream",
     "text": "[5. 7. 9.]\n[-3. -3. -3.]\n[ 4. 10. 18.]\n[0.25 0.4  0.5 ]\n"
    }
   ],
   "source": [
    "# Numpy の算術計算\n",
    "x = np.array([1.0, 2.0, 3.0])\n",
    "y = np.array([4.0, 5.0, 6.0])\n",
    "# 要素ごとに計算\n",
    "print(x + y)\n",
    "print(x - y)\n",
    "print(x * y)\n",
    "print(x / y)\n"
   ]
  },
  {
   "cell_type": "code",
   "execution_count": 8,
   "metadata": {},
   "outputs": [
    {
     "data": {
      "text/plain": "array([0.5, 1. , 1.5])"
     },
     "execution_count": 8,
     "metadata": {},
     "output_type": "execute_result"
    }
   ],
   "source": [
    "# ブロードキャスト\n",
    "x = np.array([1.0, 2.0, 3.0])\n",
    "x / 2.0"
   ]
  },
  {
   "cell_type": "code",
   "execution_count": 12,
   "metadata": {},
   "outputs": [
    {
     "name": "stdout",
     "output_type": "stream",
     "text": "[[1 2]\n [3 4]]\n(2, 2)\nint64\n"
    }
   ],
   "source": [
    "# Numpy の　N次配列\n",
    "# 行列\n",
    "A = np.array([[1, 2], [3, 4]])\n",
    "print(A)\n",
    "print(A.shape) # 行列Aの形状\n",
    "print(A.dtype) # Aの要素のデータ型\n"
   ]
  },
  {
   "cell_type": "code",
   "execution_count": 14,
   "metadata": {},
   "outputs": [
    {
     "name": "stdout",
     "output_type": "stream",
     "text": "[[ 4  2]\n [ 3 10]]\n[[ 3  0]\n [ 0 24]]\n[[10 20]\n [30 40]]\n"
    }
   ],
   "source": [
    "# 行列の算術計算\n",
    "A = np.array([[1, 2], [3, 4]])\n",
    "B = np.array([[3, 0], [0, 6]])\n",
    "print(A + B)\n",
    "print(A * B)\n",
    "print(A * 10) # スカラ値でブロードキャスト"
   ]
  },
  {
   "cell_type": "code",
   "execution_count": 15,
   "metadata": {},
   "outputs": [
    {
     "data": {
      "text/plain": "array([[10, 40],\n       [30, 80]])"
     },
     "execution_count": 15,
     "metadata": {},
     "output_type": "execute_result"
    }
   ],
   "source": [
    "A = np.array([[1, 2], [3, 4]])\n",
    "B = np.array([10, 20])\n",
    "A * B # ベクトルでブロードキャスト"
   ]
  },
  {
   "cell_type": "code",
   "execution_count": 18,
   "metadata": {},
   "outputs": [
    {
     "name": "stdout",
     "output_type": "stream",
     "text": "[[51 55]\n [23 57]\n [46 98]]\n[51 55]\n55\n[51 55]\n[23 57]\n[46 98]\n"
    }
   ],
   "source": [
    "# 要素のへのアクセス\n",
    "X = np.array([[51, 55], [23, 57], [46, 98]])\n",
    "print(X)\n",
    "print(X[0])\n",
    "print(X[0][1])\n",
    "\n",
    "for row in X: # for文を使って各要素にアクセス\n",
    "    print(row)"
   ]
  },
  {
   "cell_type": "code",
   "execution_count": 22,
   "metadata": {},
   "outputs": [
    {
     "name": "stdout",
     "output_type": "stream",
     "text": "[51 55 23 57 46 98]\n[51 23 46]\n[ True  True False  True False  True]\n[51 55 57 98]\n"
    }
   ],
   "source": [
    "X = np.array([[51, 55], [23, 57], [46, 98]])\n",
    "X = X.flatten() # Xをベクトルに変換\n",
    "print(X)\n",
    "print(X[np.array([0, 2, 4])]) # インデックスが0, 2, 4番目の要素を取得\n",
    "print(X > 50)\n",
    "print(X[X > 50]) # 50以上の要素を取得"
   ]
  },
  {
   "cell_type": "code",
   "execution_count": null,
   "metadata": {},
   "outputs": [],
   "source": []
  }
 ]
}